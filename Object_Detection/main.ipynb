{
 "cells": [
  {
   "cell_type": "code",
   "execution_count": null,
   "metadata": {},
   "outputs": [
    {
     "data": {
      "text/plain": [
       "-1"
      ]
     },
     "execution_count": 1,
     "metadata": {},
     "output_type": "execute_result"
    }
   ],
   "source": [
    "#\n",
    "import cv2\n",
    "img=cv2.imread('birds.jpg')\n",
    "birds_grey=cv2.cvtColor(img,cv2.COLOR_BGR2GRAY)\n",
    "ret,thresh=cv2.threshold(birds_grey,227,255,cv2.THRESH_BINARY_INV)\n",
    "contors,hierarhy=cv2.findContours(thresh,cv2.RETR_TREE,cv2.CHAIN_APPROX_SIMPLE)\n",
    "\n",
    "for cnt in contors:\n",
    "    if cv2.contourArea(cnt)>60:\n",
    "        # cv2.drawContours(img,cnt,-1,(0,255,0),1)\n",
    "        x1,y1,w,h=cv2.boundingRect(cnt)\n",
    "        cv2.rectangle(img,(x1,y1),(x1+w,y1+h),(0,255,0),2)\n",
    "cv2.imshow('now',img)\n",
    "cv2.imshow('fr1',birds_grey)\n",
    "cv2.imshow('thr1',thresh)\n",
    "\n",
    "cv2.waitKey(0)"
   ]
  }
 ],
 "metadata": {
  "kernelspec": {
   "display_name": "Python 3",
   "language": "python",
   "name": "python3"
  },
  "language_info": {
   "codemirror_mode": {
    "name": "ipython",
    "version": 3
   },
   "file_extension": ".py",
   "mimetype": "text/x-python",
   "name": "python",
   "nbconvert_exporter": "python",
   "pygments_lexer": "ipython3",
   "version": "3.13.1"
  }
 },
 "nbformat": 4,
 "nbformat_minor": 2
}
