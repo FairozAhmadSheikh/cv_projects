{
 "cells": [
  {
   "cell_type": "code",
   "execution_count": 1,
   "metadata": {},
   "outputs": [],
   "source": [
    "import cv2\n",
    "import numpy as np\n",
    "from PIL import Image\n",
    "\n",
    "# Function to get HSV color range\n",
    "def get_limits(color):\n",
    "    color = np.uint8([[color]])  # Convert to numpy array\n",
    "    hsv_color = cv2.cvtColor(color, cv2.COLOR_RGB2HSV)[0][0]\n",
    "    \n",
    "    lower_limit = np.array([hsv_color[0] - 10, 100, 100])  # Adjust hue range\n",
    "    upper_limit = np.array([hsv_color[0] + 10, 255, 255])  \n",
    "    return lower_limit, upper_limit\n",
    "\n",
    "cap = cv2.VideoCapture(0)\n",
    "yellow = [0,255, 255]  # Yellow in RGB\n",
    "\n",
    "while True:\n",
    "    ret, frame = cap.read()\n",
    "    if not ret:\n",
    "        break\n",
    "\n",
    "    hsvImage = cv2.cvtColor(frame, cv2.COLOR_BGR2HSV)\n",
    "    lowerLimit, upperLimit = get_limits(color=yellow)\n",
    "    mask = cv2.inRange(hsvImage, lowerLimit, upperLimit)\n",
    "    \n",
    "    mask_ = Image.fromarray(mask)\n",
    "    bbox = mask_.getbbox()\n",
    "\n",
    "    if bbox is not None:\n",
    "        x1, y1, x2, y2 = bbox\n",
    "        frame = cv2.rectangle(frame, (x1, y1), (x2, y2), (0, 255, 0), 5)\n",
    "\n",
    "    cv2.imshow('Frame', frame)\n",
    "    \n",
    "    if cv2.waitKey(1) & 0xFF == ord('q'):\n",
    "        break\n",
    "\n",
    "cap.release()\n",
    "cv2.destroyAllWindows()\n"
   ]
  }
 ],
 "metadata": {
  "kernelspec": {
   "display_name": "Python 3",
   "language": "python",
   "name": "python3"
  },
  "language_info": {
   "codemirror_mode": {
    "name": "ipython",
    "version": 3
   },
   "file_extension": ".py",
   "mimetype": "text/x-python",
   "name": "python",
   "nbconvert_exporter": "python",
   "pygments_lexer": "ipython3",
   "version": "3.13.1"
  }
 },
 "nbformat": 4,
 "nbformat_minor": 2
}
